{
  "nbformat": 4,
  "nbformat_minor": 0,
  "metadata": {
    "colab": {
      "provenance": [],
      "authorship_tag": "ABX9TyO5myWMuZKf+Ezg/ivnB2Ym",
      "include_colab_link": true
    },
    "kernelspec": {
      "name": "python3",
      "display_name": "Python 3"
    },
    "language_info": {
      "name": "python"
    }
  },
  "cells": [
    {
      "cell_type": "markdown",
      "metadata": {
        "id": "view-in-github",
        "colab_type": "text"
      },
      "source": [
        "<a href=\"https://colab.research.google.com/github/aravindgopisetty/BDA-ASSIGNMENT/blob/main/BDA_ASSIGNMENT2.ipynb\" target=\"_parent\"><img src=\"https://colab.research.google.com/assets/colab-badge.svg\" alt=\"Open In Colab\"/></a>"
      ]
    },
    {
      "cell_type": "code",
      "source": [
        "# Install Java (required for Spark)\n",
        "!apt-get install openjdk-8-jdk-headless -qq > /dev/null\n",
        "\n",
        "# Download Spark 3.3.2 (check for the latest version at https://spark.apache.org/downloads.html)\n",
        "!wget -q https://archive.apache.org/dist/spark/spark-3.3.2/spark-3.3.2-bin-hadoop3.tgz\n",
        "\n",
        "# Unzip Spark\n",
        "!tar xf spark-3.3.2-bin-hadoop3.tgz\n",
        "\n",
        "# Set environment variables\n",
        "import os\n",
        "os.environ[\"JAVA_HOME\"] = \"/usr/lib/jvm/java-8-openjdk-amd64\"\n",
        "os.environ[\"SPARK_HOME\"] = \"/content/spark-3.3.2-bin-hadoop3\"\n",
        "\n",
        "# Install findspark to locate Spark\n",
        "!pip install -q findspark"
      ],
      "metadata": {
        "id": "iKqV65V0VhAH"
      },
      "execution_count": 4,
      "outputs": []
    },
    {
      "cell_type": "code",
      "source": [
        "import findspark\n",
        "findspark.init()\n",
        "\n",
        "from pyspark.sql import SparkSession\n",
        "from pyspark.ml.recommendation import ALS\n",
        "from pyspark.ml.evaluation import RegressionEvaluator\n",
        "from pyspark.sql import Row\n",
        "import pyspark.sql.functions as F\n",
        "spark = SparkSession.builder \\\n",
        "    .master(\"local[*]\") \\\n",
        "    .appName(\"MovieRecommendation\") \\\n",
        "    .getOrCreate()\n",
        "\n",
        "spark"
      ],
      "metadata": {
        "colab": {
          "base_uri": "https://localhost:8080/",
          "height": 219
        },
        "id": "EJRpTKIcVyN3",
        "outputId": "e1fee23b-7d84-467b-9ac6-dbd2ba73cf5f"
      },
      "execution_count": 5,
      "outputs": [
        {
          "output_type": "execute_result",
          "data": {
            "text/plain": [
              "<pyspark.sql.session.SparkSession at 0x78953da9b890>"
            ],
            "text/html": [
              "\n",
              "            <div>\n",
              "                <p><b>SparkSession - in-memory</b></p>\n",
              "                \n",
              "        <div>\n",
              "            <p><b>SparkContext</b></p>\n",
              "\n",
              "            <p><a href=\"http://aa8cfe0ba481:4040\">Spark UI</a></p>\n",
              "\n",
              "            <dl>\n",
              "              <dt>Version</dt>\n",
              "                <dd><code>v3.3.2</code></dd>\n",
              "              <dt>Master</dt>\n",
              "                <dd><code>local[*]</code></dd>\n",
              "              <dt>AppName</dt>\n",
              "                <dd><code>MovieRecommendation</code></dd>\n",
              "            </dl>\n",
              "        </div>\n",
              "        \n",
              "            </div>\n",
              "        "
            ]
          },
          "metadata": {},
          "execution_count": 5
        }
      ]
    },
    {
      "cell_type": "code",
      "source": [
        "\n",
        "!wget -q http://files.grouplens.org/datasets/movielens/ml-latest-small.zip\n",
        "!unzip -q ml-latest-small.zip\n",
        "!ls ml-latest-small"
      ],
      "metadata": {
        "colab": {
          "base_uri": "https://localhost:8080/"
        },
        "id": "0nMtEXoWWjG8",
        "outputId": "255befa8-aaa1-4d51-dbea-770fe5edb590"
      },
      "execution_count": 6,
      "outputs": [
        {
          "output_type": "stream",
          "name": "stdout",
          "text": [
            "links.csv  movies.csv  ratings.csv  README.txt\ttags.csv\n"
          ]
        }
      ]
    },
    {
      "cell_type": "code",
      "source": [
        "\n",
        "movies = spark.read.csv(\"ml-latest-small/movies.csv\", header=True, inferSchema=True)\n",
        "ratings = spark.read.csv(\"ml-latest-small/ratings.csv\", header=True, inferSchema=True)\n",
        "\n",
        "\n",
        "print(\"Movies:\")\n",
        "movies.show(5, truncate=False)\n",
        "\n",
        "print(\"\\nRatings:\")\n",
        "ratings.show(5)\n",
        "\n",
        "\n",
        "ratings_grouped = ratings.groupBy(\"movieId\").count()\n",
        "ratings_grouped.orderBy(\"count\", ascending=False).show(5)\n",
        "\n",
        "\n",
        "movie_ratings = movies.join(ratings_grouped, \"movieId\", \"left\")\n",
        "movie_ratings.orderBy(\"count\", ascending=False).show(5, truncate=False)"
      ],
      "metadata": {
        "colab": {
          "base_uri": "https://localhost:8080/"
        },
        "id": "X4ELrhiGWnAm",
        "outputId": "e634b419-618c-49e1-8b4a-ef424a5ce547"
      },
      "execution_count": 7,
      "outputs": [
        {
          "output_type": "stream",
          "name": "stdout",
          "text": [
            "Movies:\n",
            "+-------+----------------------------------+-------------------------------------------+\n",
            "|movieId|title                             |genres                                     |\n",
            "+-------+----------------------------------+-------------------------------------------+\n",
            "|1      |Toy Story (1995)                  |Adventure|Animation|Children|Comedy|Fantasy|\n",
            "|2      |Jumanji (1995)                    |Adventure|Children|Fantasy                 |\n",
            "|3      |Grumpier Old Men (1995)           |Comedy|Romance                             |\n",
            "|4      |Waiting to Exhale (1995)          |Comedy|Drama|Romance                       |\n",
            "|5      |Father of the Bride Part II (1995)|Comedy                                     |\n",
            "+-------+----------------------------------+-------------------------------------------+\n",
            "only showing top 5 rows\n",
            "\n",
            "\n",
            "Ratings:\n",
            "+------+-------+------+---------+\n",
            "|userId|movieId|rating|timestamp|\n",
            "+------+-------+------+---------+\n",
            "|     1|      1|   4.0|964982703|\n",
            "|     1|      3|   4.0|964981247|\n",
            "|     1|      6|   4.0|964982224|\n",
            "|     1|     47|   5.0|964983815|\n",
            "|     1|     50|   5.0|964982931|\n",
            "+------+-------+------+---------+\n",
            "only showing top 5 rows\n",
            "\n",
            "+-------+-----+\n",
            "|movieId|count|\n",
            "+-------+-----+\n",
            "|    356|  329|\n",
            "|    318|  317|\n",
            "|    296|  307|\n",
            "|    593|  279|\n",
            "|   2571|  278|\n",
            "+-------+-----+\n",
            "only showing top 5 rows\n",
            "\n",
            "+-------+--------------------------------+---------------------------+-----+\n",
            "|movieId|title                           |genres                     |count|\n",
            "+-------+--------------------------------+---------------------------+-----+\n",
            "|356    |Forrest Gump (1994)             |Comedy|Drama|Romance|War   |329  |\n",
            "|318    |Shawshank Redemption, The (1994)|Crime|Drama                |317  |\n",
            "|296    |Pulp Fiction (1994)             |Comedy|Crime|Drama|Thriller|307  |\n",
            "|593    |Silence of the Lambs, The (1991)|Crime|Horror|Thriller      |279  |\n",
            "|2571   |Matrix, The (1999)              |Action|Sci-Fi|Thriller     |278  |\n",
            "+-------+--------------------------------+---------------------------+-----+\n",
            "only showing top 5 rows\n",
            "\n"
          ]
        }
      ]
    },
    {
      "cell_type": "code",
      "source": [
        "\n",
        "(training, test) = ratings.randomSplit([0.8, 0.2])\n",
        "\n",
        "als = ALS(\n",
        "    maxIter=5,\n",
        "    regParam=0.01,\n",
        "    userCol=\"userId\",\n",
        "    itemCol=\"movieId\",\n",
        "    ratingCol=\"rating\",\n",
        "    coldStartStrategy=\"drop\"\n",
        ")\n",
        "\n",
        "\n",
        "model = als.fit(training)\n",
        "\n",
        "\n",
        "predictions = model.transform(test)\n",
        "evaluator = RegressionEvaluator(\n",
        "    metricName=\"rmse\",\n",
        "    labelCol=\"rating\",\n",
        "    predictionCol=\"prediction\"\n",
        ")\n",
        "\n",
        "rmse = evaluator.evaluate(predictions)\n",
        "print(f\"Root-mean-square error = {rmse:.2f}\")"
      ],
      "metadata": {
        "colab": {
          "base_uri": "https://localhost:8080/"
        },
        "id": "t6znL56UWpt_",
        "outputId": "dfd4b3b7-21b2-4f2a-e1af-a1f25d654135"
      },
      "execution_count": 8,
      "outputs": [
        {
          "output_type": "stream",
          "name": "stdout",
          "text": [
            "Root-mean-square error = 1.09\n"
          ]
        }
      ]
    },
    {
      "cell_type": "code",
      "source": [
        "\n",
        "user_recs = model.recommendForAllUsers(10)\n",
        "\n",
        "\n",
        "movie_recs = model.recommendForAllItems(10)\n",
        "\n",
        "\n",
        "user_id = 1\n",
        "\n",
        "\n",
        "user_recs_df = user_recs.filter(user_recs.userId == user_id).collect()\n",
        "\n",
        "if user_recs_df:\n",
        "    rec_movies = user_recs_df[0].recommendations\n",
        "\n",
        "    print(f\"\\nTop 10 recommendations for user {user_id}:\")\n",
        "    for row in rec_movies:\n",
        "        movie_id = row.movieId\n",
        "        rating = row.rating\n",
        "        movie_title = movies.filter(movies.movieId == movie_id).select(\"title\").collect()[0].title\n",
        "        print(f\"{movie_title} (predicted rating: {rating:.2f})\")\n",
        "else:\n",
        "    print(f\"No recommendations for user {user_id} (possibly new user)\")"
      ],
      "metadata": {
        "colab": {
          "base_uri": "https://localhost:8080/"
        },
        "id": "ifx70PiJW27a",
        "outputId": "a692b74a-263b-4896-991b-b9dbf0a87034"
      },
      "execution_count": 9,
      "outputs": [
        {
          "output_type": "stream",
          "name": "stdout",
          "text": [
            "\n",
            "Top 10 recommendations for user 1:\n",
            "Yojimbo (1961) (predicted rating: 6.37)\n",
            "Guess Who's Coming to Dinner (1967) (predicted rating: 6.35)\n",
            "Shadowlands (1993) (predicted rating: 6.22)\n",
            "Sophie Scholl: The Final Days (Sophie Scholl - Die letzten Tage) (2005) (predicted rating: 6.17)\n",
            "Simple Plan, A (1998) (predicted rating: 6.16)\n",
            "On the Waterfront (1954) (predicted rating: 6.12)\n",
            "Jetée, La (1962) (predicted rating: 6.11)\n",
            "Kelly's Heroes (1970) (predicted rating: 6.07)\n",
            "Grave of the Fireflies (Hotaru no haka) (1988) (predicted rating: 6.03)\n",
            "Dead Again (1991) (predicted rating: 5.97)\n"
          ]
        }
      ]
    }
  ]
}